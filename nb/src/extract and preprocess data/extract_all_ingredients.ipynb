{
 "cells": [
  {
   "cell_type": "code",
   "execution_count": 1,
   "id": "4b53d1b7-6c44-4855-ac6f-867dd448b072",
   "metadata": {},
   "outputs": [],
   "source": [
    "!pip install langchain-openai langchain-community"
   ]
  },
  {
   "cell_type": "code",
   "execution_count": 12,
   "id": "633be801-7245-49e2-b0cd-12ed14a04248",
   "metadata": {},
   "outputs": [
    {
     "data": {
      "text/plain": [
       "True"
      ]
     },
     "execution_count": 12,
     "metadata": {},
     "output_type": "execute_result"
    }
   ],
   "source": [
    "from opensearchpy import OpenSearch\n",
    "from decouple import config\n",
    "import pandas as pd\n",
    "import pickle\n",
    "from tqdm import tqdm\n",
    "import os\n",
    "from dotenv import load_dotenv\n",
    "from langchain_openai import ChatOpenAI\n",
    "from langchain_core.messages import HumanMessage, AIMessage, SystemMessage, ToolMessage\n",
    "import re\n",
    "from typing import List, Optional\n",
    "\n",
    "# Load environment variables from .env file\n",
    "load_dotenv()"
   ]
  },
  {
   "cell_type": "markdown",
   "id": "9c78488e-bb84-47b1-8af0-68f4a037ec5b",
   "metadata": {},
   "source": [
    "## Get all reciepies ingredients:"
   ]
  },
  {
   "cell_type": "code",
   "execution_count": null,
   "id": "73a88de3-bd0e-4470-9a1d-36c9185eb090",
   "metadata": {},
   "outputs": [],
   "source": [
    "# Initialize the OpenSearch client with configuration from environment variables\n",
    "client = OpenSearch(\n",
    "    hosts=[config('OPENSEARCH_URL', 'http://localhost:9200')],\n",
    "    http_auth=None,\n",
    "    use_ssl=False,\n",
    "    verify_certs=False,\n",
    "    ssl_show_warn=False,\n",
    ")"
   ]
  },
  {
   "cell_type": "code",
   "execution_count": 3,
   "id": "444e1781-e4d5-4c87-86d7-9a6fb8f19f9c",
   "metadata": {},
   "outputs": [],
   "source": [
    "# Define the SQL query to retrieve the 'ingredients' column from the 'recipes' index\n",
    "query = \"\"\"\n",
    "SELECT ingredients\n",
    "FROM recipes\n",
    "\"\"\"\n",
    "\n",
    "res = client.sql.query(body={'query': query})\n",
    "df = pd.DataFrame(res[\"datarows\"], columns=[c[\"name\"] for c in res[\"schema\"]])"
   ]
  },
  {
   "cell_type": "code",
   "execution_count": 4,
   "id": "05738731-0365-45f4-9edd-9fed6172ec78",
   "metadata": {},
   "outputs": [
    {
     "name": "stdout",
     "output_type": "stream",
     "text": [
      "shape: (10000, 1)\n"
     ]
    },
    {
     "data": {
      "text/html": [
       "<div>\n",
       "<style scoped>\n",
       "    .dataframe tbody tr th:only-of-type {\n",
       "        vertical-align: middle;\n",
       "    }\n",
       "\n",
       "    .dataframe tbody tr th {\n",
       "        vertical-align: top;\n",
       "    }\n",
       "\n",
       "    .dataframe thead th {\n",
       "        text-align: right;\n",
       "    }\n",
       "</style>\n",
       "<table border=\"1\" class=\"dataframe\">\n",
       "  <thead>\n",
       "    <tr style=\"text-align: right;\">\n",
       "      <th></th>\n",
       "      <th>ingredients</th>\n",
       "    </tr>\n",
       "  </thead>\n",
       "  <tbody>\n",
       "    <tr>\n",
       "      <th>0</th>\n",
       "      <td>[1 cup all-purpose flour, 1/4 cup packed brown...</td>\n",
       "    </tr>\n",
       "    <tr>\n",
       "      <th>1</th>\n",
       "      <td>[1/2 (17.5 ounce) package frozen puff pastry, ...</td>\n",
       "    </tr>\n",
       "    <tr>\n",
       "      <th>2</th>\n",
       "      <td>[1 (8 ounce) package cream cheese, softened, 1...</td>\n",
       "    </tr>\n",
       "    <tr>\n",
       "      <th>3</th>\n",
       "      <td>[1 cup all-purpose flour, 1/2 cup packed brown...</td>\n",
       "    </tr>\n",
       "    <tr>\n",
       "      <th>4</th>\n",
       "      <td>[8 apples, 1 cup all-purpose flour, 1 cup whit...</td>\n",
       "    </tr>\n",
       "  </tbody>\n",
       "</table>\n",
       "</div>"
      ],
      "text/plain": [
       "                                         ingredients\n",
       "0  [1 cup all-purpose flour, 1/4 cup packed brown...\n",
       "1  [1/2 (17.5 ounce) package frozen puff pastry, ...\n",
       "2  [1 (8 ounce) package cream cheese, softened, 1...\n",
       "3  [1 cup all-purpose flour, 1/2 cup packed brown...\n",
       "4  [8 apples, 1 cup all-purpose flour, 1 cup whit..."
      ]
     },
     "execution_count": 4,
     "metadata": {},
     "output_type": "execute_result"
    }
   ],
   "source": [
    "print(f\"shape: {df.shape}\")\n",
    "df.head()"
   ]
  },
  {
   "cell_type": "code",
   "execution_count": 5,
   "id": "ad0e6439-6ee3-4a88-af4d-64d4000aa60c",
   "metadata": {},
   "outputs": [
    {
     "data": {
      "text/plain": [
       "['1 cup all-purpose flour',\n",
       " '1/4 cup packed brown sugar',\n",
       " '1/2 cup butter',\n",
       " '1/2 cup chopped walnuts',\n",
       " '2 egg whites',\n",
       " '1 cup white sugar',\n",
       " '2 cups fresh strawberries',\n",
       " '1 cup heavy cream',\n",
       " '1 teaspoon lemon juice']"
      ]
     },
     "execution_count": 5,
     "metadata": {},
     "output_type": "execute_result"
    }
   ],
   "source": [
    "# Let's look at a sample\n",
    "list(df.loc[0]['ingredients'])"
   ]
  },
  {
   "cell_type": "markdown",
   "id": "a1a5f6fd-d3ad-4a09-a26b-bf2693755846",
   "metadata": {},
   "source": [
    "## Use GenAI to extract specific ingredients name"
   ]
  },
  {
   "cell_type": "code",
   "execution_count": 13,
   "id": "a15cd6c2-9a17-44fa-a7b9-07cd737faf1d",
   "metadata": {},
   "outputs": [],
   "source": [
    "# Get OpenAI API key from environment\n",
    "OPENAI_API_KEY = os.getenv('OPENAI_API_KEY')"
   ]
  },
  {
   "cell_type": "code",
   "execution_count": 12,
   "id": "6f4a9091-9370-4509-a166-d64eca37da3f",
   "metadata": {},
   "outputs": [],
   "source": [
    "# Initialize the OpenAI chat model with custom parameters\n",
    "# client = openai.OpenAI(api_key=API_KEY)\n",
    "llm = ChatOpenAI(\n",
    "    model=\"gpt-4.1-nano\",\n",
    "    temperature=0,\n",
    "    max_tokens=20,\n",
    "    api_key=OPENAI_API_KEY\n",
    ")"
   ]
  },
  {
   "cell_type": "code",
   "execution_count": 41,
   "id": "119ed988-b831-4691-8ba8-1369cb98abdc",
   "metadata": {},
   "outputs": [
    {
     "data": {
      "text/plain": [
       "'Hello! How can I assist you today?'"
      ]
     },
     "execution_count": 41,
     "metadata": {},
     "output_type": "execute_result"
    }
   ],
   "source": [
    "llm.invoke([HumanMessage(content='prompt')]).content"
   ]
  },
  {
   "cell_type": "code",
   "execution_count": 32,
   "id": "84c4fdec-fecf-4305-b3a2-86cb12ce73d2",
   "metadata": {},
   "outputs": [
    {
     "name": "stdout",
     "output_type": "stream",
     "text": [
      "'1 cup all-purpose flour' → all-purpose flour\n",
      "'2 egg whites' → egg white\n",
      "'1 cup white sugar' → white sugar\n",
      "'1 teaspoon lemon juice' → lemon juice\n",
      "'1 cup milk 3%' → milk 3%\n"
     ]
    }
   ],
   "source": [
    "def extract_ingredient(ingredient_text):\n",
    "    \"\"\"\n",
    "    Extracts the ingredient name from a full recipe ingredient string using a language model.\n",
    "\n",
    "    Parameters:\n",
    "        ingredient_text (str): A string containing a quantity, unit, and ingredient (e.g. \"1 cup sugar\").\n",
    "\n",
    "    Returns:\n",
    "        str: The extracted ingredient name only (e.g. \"sugar\").\n",
    "    \"\"\"    \n",
    "    system_msg=f'''You are a help assistant with the role of extracting ingredient name from a food recipe.\n",
    "You will be provided with food ingredient and amount, you need to return the ingredient name.\n",
    "Your response must always be nothing but the food name, do not add any explanation or anything else to your response!\n",
    "Examples:\n",
    "Input: \"1 cup all-purpose flour\", Expected output: \"all-purpose flour\"\n",
    "Input: \"2 egg whites\", Expected output: \"egg white\"\n",
    "Input: \"1 cup milk 3%\", Expected output: \"milk 3%\"'''\n",
    "    \n",
    "    human_msg = f'''Extract the ingredient name from: \"{ingredient_text}\"'''\n",
    "    \n",
    "    try:\n",
    "        res = llm.invoke([SystemMessage(system_msg), HumanMessage(content=human_msg)])\n",
    "        return res.content #response.choices[0].message.content \n",
    "    except Exception as e:\n",
    "        print(f\"Error: {e}\")\n",
    "\n",
    "# Sanity test to verify model output\n",
    "test_cases = [\n",
    "    \"1 cup all-purpose flour\",\n",
    "    \"2 egg whites\", \n",
    "    \"1 cup white sugar\",\n",
    "    \"1 teaspoon lemon juice\",\n",
    "    \"1 cup milk 3%\"\n",
    "]\n",
    "\n",
    "for ingredient in test_cases:\n",
    "    result = extract_ingredient(ingredient)\n",
    "    print(f\"'{ingredient}' → {result}\")"
   ]
  },
  {
   "cell_type": "markdown",
   "id": "112765a5-863a-4df2-9fa5-9a71973daf2c",
   "metadata": {},
   "source": [
    "Extract all unique ingredients from a DataFrame:"
   ]
  },
  {
   "cell_type": "code",
   "execution_count": 38,
   "id": "8578e657-db20-400d-a728-ff28b1a4ccff",
   "metadata": {},
   "outputs": [
    {
     "name": "stderr",
     "output_type": "stream",
     "text": [
      "10000it [2:31:39,  1.10it/s]\n"
     ]
    }
   ],
   "source": [
    "# Track and deduplicate extracted ingredients\n",
    "old_file_path = None\n",
    "unique_ingredients = set()\n",
    "seen_ingredients = set()\n",
    "\n",
    "# Iterate through the ingredients in the DataFrame\n",
    "for i, row in tqdm(df.iterrows()):\n",
    "    iter = i+1\n",
    "    for ingredient_text in row['ingredients']:\n",
    "        if ingredient_text in seen_ingredients:\n",
    "            continue\n",
    "        ingredient_name = extract_ingredient(ingredient_text)\n",
    "        unique_ingredients.add(ingredient_name)\n",
    "        seen_ingredients.add(ingredient_text)\n",
    "        \n",
    "    # Periodically save intermediate results every 20 rows\n",
    "    if iter%20==0:\n",
    "        file_path = f\"data/unique_ingredients_iter_{iter}.pkl\"\n",
    "        with open(file_path, \"wb\") as file:\n",
    "            pickle.dump(unique_ingredients, file)\n",
    "\n",
    "        # Remove the previous intermediate result file\n",
    "        if old_file_path:\n",
    "            os.remove(old_file_path)\n",
    "        old_file_path = file_path"
   ]
  },
  {
   "cell_type": "code",
   "execution_count": 39,
   "id": "104535bb-3848-473d-9d4f-5b9aad7a1edf",
   "metadata": {},
   "outputs": [
    {
     "data": {
      "text/plain": [
       "3969"
      ]
     },
     "execution_count": 39,
     "metadata": {},
     "output_type": "execute_result"
    }
   ],
   "source": [
    "# Output the final count of unique ingredients\n",
    "len(unique_ingredients)"
   ]
  }
 ],
 "metadata": {
  "kernelspec": {
   "display_name": "Python 3 (ipykernel)",
   "language": "python",
   "name": "python3"
  },
  "language_info": {
   "codemirror_mode": {
    "name": "ipython",
    "version": 3
   },
   "file_extension": ".py",
   "mimetype": "text/x-python",
   "name": "python",
   "nbconvert_exporter": "python",
   "pygments_lexer": "ipython3",
   "version": "3.11.6"
  }
 },
 "nbformat": 4,
 "nbformat_minor": 5
}
