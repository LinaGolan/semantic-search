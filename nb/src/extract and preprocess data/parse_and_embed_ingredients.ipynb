{
 "cells": [
  {
   "cell_type": "code",
   "execution_count": 17,
   "id": "9f081013-6b54-4d0f-ae08-190edfc97994",
   "metadata": {},
   "outputs": [],
   "source": [
    "import pandas as pd\n",
    "from sentence_transformers import SentenceTransformer\n",
    "import numpy as np\n",
    "import os\n",
    "import json\n",
    "import regex as re\n",
    "import json"
   ]
  },
  {
   "cell_type": "code",
   "execution_count": 21,
   "id": "9706aa10-ba7f-4ad3-86d6-53821dd71d9d",
   "metadata": {},
   "outputs": [],
   "source": [
    "# Load raw ingredient data\n",
    "with open('data/‏‏parsed_ingredients_dict_revised.json', 'r', encoding ='utf8') as json_file:\n",
    "    extracted_ingredients_carbs_vegan = json.load(json_file)"
   ]
  },
  {
   "cell_type": "markdown",
   "id": "00914c6d-736b-4c9c-8359-fb298b4f40fc",
   "metadata": {},
   "source": [
    "### Parse and filter dictionary entries"
   ]
  },
  {
   "cell_type": "code",
   "execution_count": 8,
   "id": "03b16af3-87df-41ad-8d3a-5c3822d9c117",
   "metadata": {},
   "outputs": [],
   "source": [
    "import re\n",
    "import json\n",
    "\n",
    "parsed_ingredient_dict = {}\n",
    "\n",
    "for ingredient, raw in extracted_ingredients_carbs_vegan.items():\n",
    "    # If it’s already a dict, use it directly\n",
    "    if isinstance(raw, dict):\n",
    "        parsed_ingredient_dict[ingredient] = raw\n",
    "        continue"
   ]
  },
  {
   "cell_type": "code",
   "execution_count": 9,
   "id": "1a8306e6-e981-4167-b54d-92cb1cd0ce99",
   "metadata": {},
   "outputs": [],
   "source": [
    "# Convert to a DataFrame for further processing\n",
    "rows = []\n",
    "for ingredient, info in parsed_ingredient_dict.items():\n",
    "    rows.append({\n",
    "        \"ingredient_name\": ingredient,\n",
    "        \"is_keto\": info.get(\"carbs_per_100g\"),\n",
    "        \"is_vegan\": info.get(\"is_vegan\")\n",
    "    })"
   ]
  },
  {
   "cell_type": "code",
   "execution_count": 10,
   "id": "7b791796-ad86-4df1-be31-0a120c278b8e",
   "metadata": {},
   "outputs": [],
   "source": [
    "# Create the DataFrame\n",
    "ingredient_embed_df = pd.DataFrame(rows, columns=[\"ingredient_name\", \"is_keto\", \"is_vegan\"])"
   ]
  },
  {
   "cell_type": "code",
   "execution_count": 12,
   "id": "882a5237-0dd8-4533-8858-51348047b1a4",
   "metadata": {},
   "outputs": [
    {
     "data": {
      "text/plain": [
       "ingredient_name    0\n",
       "is_keto            1\n",
       "is_vegan           1\n",
       "dtype: int64"
      ]
     },
     "execution_count": 12,
     "metadata": {},
     "output_type": "execute_result"
    }
   ],
   "source": [
    "# check for missing values\n",
    "ingredient_embed_df.isna().sum()"
   ]
  },
  {
   "cell_type": "code",
   "execution_count": 13,
   "id": "d26a4ea0-ad39-43c1-b2a3-dfa7fc22e236",
   "metadata": {},
   "outputs": [],
   "source": [
    "# Drop rows with missing keto or vegan values\n",
    "ingredient_embed_df.dropna(inplace=True)\n",
    "\n",
    "# Standardize text: lowercase ingredient names\n",
    "ingredient_embed_df['ingredient_name'] = ingredient_embed_df['ingredient_name'].apply(lambda x: x.lower())\n",
    "\n",
    "# Convert numeric carb values to boolean keto flag\n",
    "ingredient_embed_df['is_keto'] = ingredient_embed_df['is_keto'].apply(lambda x: x <= 10)"
   ]
  },
  {
   "cell_type": "code",
   "execution_count": 15,
   "id": "70708524-6e98-49a2-8f2b-442dd12ccae4",
   "metadata": {},
   "outputs": [
    {
     "data": {
      "text/plain": [
       "3967"
      ]
     },
     "execution_count": 15,
     "metadata": {},
     "output_type": "execute_result"
    }
   ],
   "source": [
    "len(ingredient_embed_df)"
   ]
  },
  {
   "cell_type": "markdown",
   "id": "8a6c48d5-9513-4c7d-aecd-575fd76de1f3",
   "metadata": {},
   "source": [
    "### Create Embeddings for each ingredient"
   ]
  },
  {
   "cell_type": "code",
   "execution_count": 18,
   "id": "7e8b3d60-45ee-418b-b807-0fbc657a29ba",
   "metadata": {},
   "outputs": [
    {
     "data": {
      "application/vnd.jupyter.widget-view+json": {
       "model_id": "431f63972cd04234b3196b44322e964c",
       "version_major": 2,
       "version_minor": 0
      },
      "text/plain": [
       "modules.json:   0%|          | 0.00/349 [00:00<?, ?B/s]"
      ]
     },
     "metadata": {},
     "output_type": "display_data"
    },
    {
     "data": {
      "application/vnd.jupyter.widget-view+json": {
       "model_id": "0c0b9ec52dad455aa7acb60d8f7ae305",
       "version_major": 2,
       "version_minor": 0
      },
      "text/plain": [
       "config_sentence_transformers.json:   0%|          | 0.00/116 [00:00<?, ?B/s]"
      ]
     },
     "metadata": {},
     "output_type": "display_data"
    },
    {
     "data": {
      "application/vnd.jupyter.widget-view+json": {
       "model_id": "219c88f969f04db38a5a9683c034562f",
       "version_major": 2,
       "version_minor": 0
      },
      "text/plain": [
       "README.md: 0.00B [00:00, ?B/s]"
      ]
     },
     "metadata": {},
     "output_type": "display_data"
    },
    {
     "data": {
      "application/vnd.jupyter.widget-view+json": {
       "model_id": "0970e572cac2411d9a2a27ae42f27888",
       "version_major": 2,
       "version_minor": 0
      },
      "text/plain": [
       "sentence_bert_config.json:   0%|          | 0.00/53.0 [00:00<?, ?B/s]"
      ]
     },
     "metadata": {},
     "output_type": "display_data"
    },
    {
     "data": {
      "application/vnd.jupyter.widget-view+json": {
       "model_id": "ae21a2fceb1543b8815a8965710ce2da",
       "version_major": 2,
       "version_minor": 0
      },
      "text/plain": [
       "config.json:   0%|          | 0.00/612 [00:00<?, ?B/s]"
      ]
     },
     "metadata": {},
     "output_type": "display_data"
    },
    {
     "data": {
      "application/vnd.jupyter.widget-view+json": {
       "model_id": "ad4f50656a3f4f819058fdb593c4180f",
       "version_major": 2,
       "version_minor": 0
      },
      "text/plain": [
       "model.safetensors:   0%|          | 0.00/90.9M [00:00<?, ?B/s]"
      ]
     },
     "metadata": {},
     "output_type": "display_data"
    },
    {
     "data": {
      "application/vnd.jupyter.widget-view+json": {
       "model_id": "8edfa03ba31246098ac608fbabffba85",
       "version_major": 2,
       "version_minor": 0
      },
      "text/plain": [
       "tokenizer_config.json:   0%|          | 0.00/350 [00:00<?, ?B/s]"
      ]
     },
     "metadata": {},
     "output_type": "display_data"
    },
    {
     "data": {
      "application/vnd.jupyter.widget-view+json": {
       "model_id": "54dd6dcde54b4012b55c2fbec55d5881",
       "version_major": 2,
       "version_minor": 0
      },
      "text/plain": [
       "vocab.txt: 0.00B [00:00, ?B/s]"
      ]
     },
     "metadata": {},
     "output_type": "display_data"
    },
    {
     "data": {
      "application/vnd.jupyter.widget-view+json": {
       "model_id": "dfb86440f10b4e0fb1f4d12c351fbeb0",
       "version_major": 2,
       "version_minor": 0
      },
      "text/plain": [
       "tokenizer.json: 0.00B [00:00, ?B/s]"
      ]
     },
     "metadata": {},
     "output_type": "display_data"
    },
    {
     "data": {
      "application/vnd.jupyter.widget-view+json": {
       "model_id": "fcb76f3249ea48158aa88f79d8ea032e",
       "version_major": 2,
       "version_minor": 0
      },
      "text/plain": [
       "special_tokens_map.json:   0%|          | 0.00/112 [00:00<?, ?B/s]"
      ]
     },
     "metadata": {},
     "output_type": "display_data"
    },
    {
     "data": {
      "application/vnd.jupyter.widget-view+json": {
       "model_id": "b6397bca60504f5da1c9b72c30e328ea",
       "version_major": 2,
       "version_minor": 0
      },
      "text/plain": [
       "config.json:   0%|          | 0.00/190 [00:00<?, ?B/s]"
      ]
     },
     "metadata": {},
     "output_type": "display_data"
    }
   ],
   "source": [
    "model = SentenceTransformer('all-MiniLM-L6-v2')"
   ]
  },
  {
   "cell_type": "code",
   "execution_count": 19,
   "id": "25bf8763-b4b9-42be-bb82-cf51a71f7e3c",
   "metadata": {},
   "outputs": [],
   "source": [
    "ingredient_names = ingredient_embed_df[\"ingredient_name\"].tolist()\n",
    "\n",
    "# Compute embeddings\n",
    "embeddings = model.encode(ingredient_names, convert_to_numpy=True)\n",
    "\n",
    "# Store embeddings\n",
    "ingredient_embed_df[\"embedding\"] = list(embeddings)"
   ]
  },
  {
   "cell_type": "code",
   "execution_count": 20,
   "id": "9b1bd636-ab91-4739-8ab0-0c1fbe0b370c",
   "metadata": {},
   "outputs": [],
   "source": [
    "# Save final df to parquet\n",
    "ingredient_embed_df.to_parquet(\"data/embed_ingredients_df.parquet\", index=False)"
   ]
  },
  {
   "cell_type": "code",
   "execution_count": 29,
   "id": "c798d29a-a52e-4a55-8553-6534f769f68e",
   "metadata": {},
   "outputs": [],
   "source": [
    "with open('data/parsed_ingredients_carbs_vegan.json', 'r', encoding ='utf8') as json_file:\n",
    "    parsed_extracted_ingredients_carbs_vegan = json.load(json_file)"
   ]
  },
  {
   "cell_type": "code",
   "execution_count": null,
   "id": "093d3121-81e2-47d8-b2a5-66f47708c207",
   "metadata": {},
   "outputs": [],
   "source": []
  }
 ],
 "metadata": {
  "kernelspec": {
   "display_name": "Python 3 (ipykernel)",
   "language": "python",
   "name": "python3"
  },
  "language_info": {
   "codemirror_mode": {
    "name": "ipython",
    "version": 3
   },
   "file_extension": ".py",
   "mimetype": "text/x-python",
   "name": "python",
   "nbconvert_exporter": "python",
   "pygments_lexer": "ipython3",
   "version": "3.11.6"
  }
 },
 "nbformat": 4,
 "nbformat_minor": 5
}
