{
 "cells": [
  {
   "cell_type": "code",
   "execution_count": 1,
   "id": "ec133e93-472e-4ef8-86ec-6a2df9774380",
   "metadata": {},
   "outputs": [],
   "source": [
    "# !pip install langchain-openai langchain-community"
   ]
  },
  {
   "cell_type": "code",
   "execution_count": 8,
   "id": "4645baf0-afbd-4312-9f8b-afa35fa7c239",
   "metadata": {},
   "outputs": [],
   "source": [
    "from langchain_core.messages import HumanMessage, AIMessage, SystemMessage, ToolMessage\n",
    "from langchain_openai import ChatOpenAI\n",
    "from langchain_community.tools import DuckDuckGoSearchRun, DuckDuckGoSearchResults, BraveSearch\n",
    "import json\n",
    "import time\n",
    "from langchain_core.tools import tool\n",
    "from tqdm import tqdm\n",
    "import pickle\n",
    "from dotenv import load_dotenv\n",
    "import os"
   ]
  },
  {
   "cell_type": "code",
   "execution_count": null,
   "id": "3c87e8c0-14d8-4f7a-8eae-818cd84653fb",
   "metadata": {},
   "outputs": [],
   "source": [
    "# Load environment variables from .env file\n",
    "load_dotenv()\n",
    "\n",
    "OPENAI_API_KEY = os.getenv('OPENAI_API_KEY')\n",
    "BRAVE_API_KEY = os.getenv('BRAVE_API_KEY')"
   ]
  },
  {
   "cell_type": "code",
   "execution_count": 82,
   "id": "1dda60df-b2f5-47b3-87a3-c0fcf11efe17",
   "metadata": {},
   "outputs": [],
   "source": [
    "# Initialize the LLM\n",
    "llm = ChatOpenAI(\n",
    "    model=\"gpt-4o\",  # Use GPT-4o for advanced, fast reasoning\n",
    "    temperature=0,   # Deterministic output for consistency\n",
    "    max_tokens=300,\n",
    "    api_key=OPENAI_API_KEY\n",
    ")\n",
    "\n",
    "# Optional: DuckDuckGo is commented due to rate limiting issues\n",
    "# search = DuckDuckGoSearchRun()\n",
    "\n",
    "# Use Brave Search API (configured to return top 3 results)\n",
    "search = BraveSearch.from_api_key(api_key=BRAVE_API_KEY, search_kwargs={\"count\": 3}) \n",
    "\n",
    "@tool\n",
    "def web_search(query: str) -> str:\n",
    "        \"\"\"\n",
    "    Search the web for carbohydrate content, vegan status, using Brave Search.\n",
    "    \n",
    "    Parameters:\n",
    "        query (str): The search query string.\n",
    "\n",
    "    Returns:\n",
    "        str: The top search result(s) as a string, or error message if search fails.\n",
    "    \"\"\"\n",
    "    try:\n",
    "        time.sleep(1/20)  # Rate limiting - 20 calles per second\n",
    "        return search.invoke(query)\n",
    "    except Exception as e:\n",
    "        print(f\"Error in web_search tool: {e}\")\n",
    "        return f\"Search failed: {e}\"\n",
    "\n",
    "# Bind the web search tool to the LLM\n",
    "llm_with_search = llm.bind_tools([web_search])"
   ]
  },
  {
   "cell_type": "code",
   "execution_count": 83,
   "id": "ae2a19ca-904a-4f59-b1e9-2669d8a74134",
   "metadata": {},
   "outputs": [],
   "source": [
    "def analyze_ingredient(ingredient):\n",
    "        \"\"\"\n",
    "    Analyzes a food ingredient by retrieving its carbohydrate content per 100g\n",
    "    and determining whether it is vegan using a web-augmented LLM.\n",
    "\n",
    "    The function prompts the LLM to use a web search tool to fetch the required\n",
    "    information and returns the result in strict JSON format:\n",
    "        {\"carbs_per_100g\": <float>, \"is_vegan\": <bool>}\n",
    "\n",
    "    Parameters:\n",
    "        ingredient (str): The name of the food ingredient to analyze.\n",
    "\n",
    "    Returns:\n",
    "        str or dict: JSON string with the analysis result or an error dict on failure.\n",
    "    \"\"\"\n",
    "    \n",
    "# System instruction to enforce strict structured output\n",
    "    system_msg = \"\"\"You are a help assistant with the role of extracting information about food products, specifically how many carbs per 100g, and weather the product is vegan.\n",
    "Your response must always be nothing but a JSON in the followin format: \n",
    "{{\"carbs_per_100g\": <float_value>, \"is_vegan\": <boolean_value>}}\n",
    "Do not add any explanation or anything else to your response!\"\"\"\n",
    "\n",
    "# User prompt asking for the specific information\n",
    "    human_msg = f\"\"\"For the food ingredient \"{ingredient}\":\n",
    "Use the web search tool to find information about:\n",
    "1. How many carbohydrates (in grams) are in 100g of {ingredient}\n",
    "2. Whether {ingredient} is vegan\n",
    "\n",
    "After searching, respond in this exact JSON format: \n",
    "{{\"carbs_per_100g\": <float_value>, \"is_vegan\": <boolean_value>}}\"\"\"\n",
    "    \n",
    "    \n",
    "    messages = [SystemMessage(content=system_msg),\n",
    "                HumanMessage(content=human_msg)]\n",
    "    \n",
    "    try:\n",
    "        # First response: LLM may request tool(s) if needed\n",
    "        response = llm_with_search.invoke(messages)\n",
    "        \n",
    "        # If tools are requested\n",
    "        if response.tool_calls:\n",
    "            # Add AI's tool call to conversation\n",
    "            messages.append(response)\n",
    "\n",
    "            # Handle each tool call (currently only expecting 'web_search')\n",
    "            for tool_call in response.tool_calls:\n",
    "                print(f\"Executing tool: {tool_call['name']} with args: {tool_call['args']}\")\n",
    "                \n",
    "                if tool_call['name'] == 'web_search':\n",
    "                    # Execute the tool with its arguments\n",
    "                    search_result = web_search.invoke(tool_call['args'])\n",
    "                    \n",
    "                    # Append tool response message linked to the original tool call\n",
    "                    tool_message = ToolMessage(\n",
    "                        content=str(search_result),\n",
    "                        tool_call_id=tool_call['id']\n",
    "                    )\n",
    "                    messages.append(tool_message)\n",
    "            \n",
    "            # print(f\"Messages after tool execution: {len(messages)} messages\")\n",
    "            \n",
    "            # Final call: LLM uses tool result to generate final JSON answer\n",
    "            final_response = llm_with_search.invoke(messages)\n",
    "            final_content = final_response.content\n",
    "        else:\n",
    "            # No tool calls — LLM responded directly\n",
    "            final_content = response.content\n",
    "        \n",
    "        # print(f\"Final response: {final_content}\")\n",
    "        return final_content\n",
    "        \n",
    "    except Exception as e:\n",
    "        print(f\"Error analyzing {ingredient}: {e}\")\n",
    "        return {\"ingredient\": ingredient, \"carbs_per_100g\": None, \"is_vegan\": None, \"error\": str(e)}"
   ]
  },
  {
   "cell_type": "markdown",
   "id": "ad5e3077-8ed1-4afd-b5b8-399dc441d36a",
   "metadata": {},
   "source": [
    "### Repeat for None values"
   ]
  },
  {
   "cell_type": "markdown",
   "id": "dfea7a49-cd5a-46fa-a267-34a31d8b3d30",
   "metadata": {},
   "source": [
    "Load last version of parsed_ingredients_carbs_vegan (with missing values)"
   ]
  },
  {
   "cell_type": "code",
   "execution_count": null,
   "id": "8fe679df-79ea-45c4-8bf8-56f59b6f1224",
   "metadata": {
    "scrolled": true
   },
   "outputs": [],
   "source": [
    "with open('parsed_ingredients_carbs_vegan.json', 'r', encoding ='utf8') as json_file:\n",
    "    parsed_extracted_ingredients_carbs_vegan = json.load(json_file)"
   ]
  },
  {
   "cell_type": "markdown",
   "id": "a26c0dc0-d431-4803-bdb6-94e75789c563",
   "metadata": {},
   "source": [
    "Filter out entries with missing or invalid data types"
   ]
  },
  {
   "cell_type": "code",
   "execution_count": 107,
   "id": "fdb96ba0-6b6f-4ef8-a238-632e117a2519",
   "metadata": {},
   "outputs": [],
   "source": [
    "dict_without_na = {}\n",
    "for k,v in parsed_extracted_ingredients_carbs_vegan.items():\n",
    "    if type(v) is not dict: # Ensure the value is a dictionary\n",
    "        continue\n",
    "    elif type(v['carbs_per_100g']) is not float or type(v['is_vegan']) is not bool: # Ensure proper data types and non-null values \n",
    "        continue\n",
    "    elif v['carbs_per_100g'] is None or v['is_vegan'] is None: # Ensure required keys are present\n",
    "        continue\n",
    "    dict_without_na[k] = v # Passed all checks; include in the filtered dictionary"
   ]
  },
  {
   "cell_type": "markdown",
   "id": "4dddfba2-a0bb-41cd-b9d1-e0d15f772cd5",
   "metadata": {},
   "source": [
    "Load the set of unique ingredients"
   ]
  },
  {
   "cell_type": "code",
   "execution_count": 94,
   "id": "bd9e5da2-e526-4c20-b30a-7c7cc5509f40",
   "metadata": {},
   "outputs": [],
   "source": [
    "with open(\"data/unique_ingredients_iter_10000.pkl\", \"rb\") as f:\n",
    "    all_unique_ingredients = pickle.load(f)"
   ]
  },
  {
   "cell_type": "markdown",
   "id": "4ca68b57-c8e8-4edf-b957-9fd262660e46",
   "metadata": {},
   "source": [
    "### Execute analyze_ingredient()"
   ]
  },
  {
   "cell_type": "code",
   "execution_count": 108,
   "id": "8aacd485-0655-44ba-919d-28f0a2d5806c",
   "metadata": {
    "scrolled": true
   },
   "outputs": [
    {
     "name": "stderr",
     "output_type": "stream",
     "text": [
      "0it [00:00, ?it/s]"
     ]
    },
    {
     "name": "stdout",
     "output_type": "stream",
     "text": [
      "Executing tool: web_search with args: {'query': 'carbohydrates per 100g peach flavored Jell-O® mix'}\n",
      "Executing tool: web_search with args: {'query': 'is peach flavored Jell-O® mix vegan'}\n"
     ]
    },
    {
     "name": "stderr",
     "output_type": "stream",
     "text": [
      "79it [00:06, 12.73it/s]"
     ]
    },
    {
     "name": "stdout",
     "output_type": "stream",
     "text": [
      "Executing tool: web_search with args: {'query': 'BUITONI® Refrigerated Three Cheese Tortellini carbohydrates per 100g'}\n",
      "Executing tool: web_search with args: {'query': 'BUITONI® Refrigerated Three Cheese Tortellini vegan'}\n"
     ]
    },
    {
     "name": "stderr",
     "output_type": "stream",
     "text": [
      "83it [00:12,  5.44it/s]"
     ]
    },
    {
     "name": "stdout",
     "output_type": "stream",
     "text": [
      "Executing tool: web_search with args: {'query': 'carbohydrates per 100g of vegetable base'}\n",
      "Executing tool: web_search with args: {'query': 'is vegetable base vegan'}\n"
     ]
    },
    {
     "name": "stderr",
     "output_type": "stream",
     "text": [
      "97it [00:18,  4.20it/s]"
     ]
    },
    {
     "name": "stdout",
     "output_type": "stream",
     "text": [
      "Executing tool: web_search with args: {'query': 'carbohydrates per 100g reduced-calorie whipped topping'}\n",
      "Executing tool: web_search with args: {'query': 'is reduced-calorie whipped topping vegan'}\n"
     ]
    },
    {
     "name": "stderr",
     "output_type": "stream",
     "text": [
      "144it [00:22,  6.43it/s]"
     ]
    },
    {
     "name": "stdout",
     "output_type": "stream",
     "text": [
      "Executing tool: web_search with args: {'query': 'carbohydrates per 100g of silver dragees'}\n",
      "Executing tool: web_search with args: {'query': 'are silver dragees vegan'}\n"
     ]
    },
    {
     "name": "stderr",
     "output_type": "stream",
     "text": [
      "160it [00:28,  4.83it/s]"
     ]
    },
    {
     "name": "stdout",
     "output_type": "stream",
     "text": [
      "Executing tool: web_search with args: {'query': 'Chambord raspberry liqueur carbohydrates per 100g'}\n",
      "Executing tool: web_search with args: {'query': 'Chambord raspberry liqueur vegan'}\n"
     ]
    },
    {
     "name": "stderr",
     "output_type": "stream",
     "text": [
      "183it [00:33,  5.01it/s]"
     ]
    },
    {
     "name": "stdout",
     "output_type": "stream",
     "text": [
      "Executing tool: web_search with args: {'query': 'carbohydrates per 100g in Vegetable Filling'}\n",
      "Executing tool: web_search with args: {'query': 'is Vegetable Filling vegan'}\n"
     ]
    },
    {
     "name": "stderr",
     "output_type": "stream",
     "text": [
      "190it [00:38,  3.80it/s]"
     ]
    },
    {
     "name": "stdout",
     "output_type": "stream",
     "text": [
      "Executing tool: web_search with args: {'query': 'carbohydrates per 100g sourball hard candies'}\n",
      "Executing tool: web_search with args: {'query': 'are sourball hard candies vegan'}\n"
     ]
    },
    {
     "name": "stderr",
     "output_type": "stream",
     "text": [
      "193it [00:43,  2.85it/s]"
     ]
    },
    {
     "name": "stdout",
     "output_type": "stream",
     "text": [
      "Executing tool: web_search with args: {'query': 'carbohydrates per 100g chocolate frosting mix'}\n",
      "Executing tool: web_search with args: {'query': 'is chocolate frosting mix vegan'}\n"
     ]
    },
    {
     "name": "stderr",
     "output_type": "stream",
     "text": [
      "195it [00:47,  2.22it/s]"
     ]
    },
    {
     "name": "stdout",
     "output_type": "stream",
     "text": [
      "Executing tool: web_search with args: {'query': 'Laughing Cow Light Creamy Swiss wedges carbohydrates per 100g'}\n",
      "Executing tool: web_search with args: {'query': 'Laughing Cow Light Creamy Swiss wedges vegan'}\n"
     ]
    },
    {
     "name": "stderr",
     "output_type": "stream",
     "text": [
      "208it [00:51,  2.42it/s]"
     ]
    },
    {
     "name": "stdout",
     "output_type": "stream",
     "text": [
      "Executing tool: web_search with args: {'query': 'carbohydrates per 100g cranberry flavored Jell-O® mix'}\n",
      "Executing tool: web_search with args: {'query': 'is cranberry flavored Jell-O® mix vegan'}\n"
     ]
    },
    {
     "name": "stderr",
     "output_type": "stream",
     "text": [
      "218it [00:58,  2.09it/s]"
     ]
    },
    {
     "name": "stdout",
     "output_type": "stream",
     "text": [
      "Executing tool: web_search with args: {'query': 'carbohydrates per 100g in wheat nuts'}\n",
      "Executing tool: web_search with args: {'query': 'are wheat nuts vegan'}\n"
     ]
    },
    {
     "name": "stderr",
     "output_type": "stream",
     "text": [
      "228it [01:02,  2.09it/s]"
     ]
    },
    {
     "name": "stdout",
     "output_type": "stream",
     "text": [
      "Executing tool: web_search with args: {'query': 'carbohydrates in 100g of lollipop sticks'}\n",
      "Executing tool: web_search with args: {'query': 'are lollipop sticks vegan'}\n"
     ]
    },
    {
     "name": "stderr",
     "output_type": "stream",
     "text": [
      "268it [01:07,  3.98it/s]"
     ]
    },
    {
     "name": "stdout",
     "output_type": "stream",
     "text": [
      "Executing tool: web_search with args: {'query': 'carbohydrates in 100g of scalded milk'}\n",
      "Executing tool: web_search with args: {'query': 'is scalded milk vegan'}\n"
     ]
    },
    {
     "name": "stderr",
     "output_type": "stream",
     "text": [
      "278it [01:11,  3.55it/s]"
     ]
    },
    {
     "name": "stdout",
     "output_type": "stream",
     "text": [
      "Executing tool: web_search with args: {'query': 'carbohydrates per 100g in pear nectar'}\n",
      "Executing tool: web_search with args: {'query': 'is pear nectar vegan'}\n"
     ]
    },
    {
     "name": "stderr",
     "output_type": "stream",
     "text": [
      "301it [01:16,  3.98it/s]"
     ]
    },
    {
     "name": "stdout",
     "output_type": "stream",
     "text": [
      "Executing tool: web_search with args: {'query': 'carbohydrates per 100g in orange flavored drink mix'}\n",
      "Executing tool: web_search with args: {'query': 'is orange flavored drink mix vegan'}\n"
     ]
    },
    {
     "name": "stderr",
     "output_type": "stream",
     "text": [
      "381it [01:20,  8.03it/s]"
     ]
    },
    {
     "name": "stdout",
     "output_type": "stream",
     "text": [
      "Executing tool: web_search with args: {'query': 'carbohydrates per 100g in Salad'}\n",
      "Executing tool: web_search with args: {'query': 'is Salad vegan'}\n"
     ]
    },
    {
     "name": "stderr",
     "output_type": "stream",
     "text": [
      "399it [01:24,  6.97it/s]"
     ]
    },
    {
     "name": "stdout",
     "output_type": "stream",
     "text": [
      "Executing tool: web_search with args: {'query': 'carbohydrates per 100g prepared chocolate cookie crumb crust'}\n",
      "Executing tool: web_search with args: {'query': 'is prepared chocolate cookie crumb crust vegan'}\n"
     ]
    },
    {
     "name": "stderr",
     "output_type": "stream",
     "text": [
      "402it [01:30,  4.68it/s]"
     ]
    },
    {
     "name": "stdout",
     "output_type": "stream",
     "text": [
      "Executing tool: web_search with args: {'query': 'BUITONI® Light Alfredo Sauce carbohydrates per 100g'}\n",
      "Executing tool: web_search with args: {'query': 'BUITONI® Light Alfredo Sauce vegan'}\n"
     ]
    },
    {
     "name": "stderr",
     "output_type": "stream",
     "text": [
      "495it [01:35,  9.00it/s]"
     ]
    },
    {
     "name": "stdout",
     "output_type": "stream",
     "text": [
      "Executing tool: web_search with args: {'query': 'carbohydrates per 100g in bread crumbs or matzo meal'}\n",
      "Executing tool: web_search with args: {'query': 'is bread crumbs or matzo meal vegan'}\n"
     ]
    },
    {
     "name": "stderr",
     "output_type": "stream",
     "text": [
      "537it [01:40,  9.06it/s]"
     ]
    },
    {
     "name": "stdout",
     "output_type": "stream",
     "text": [
      "Executing tool: web_search with args: {'query': 'carbohydrates per 100g in nonfat lemon yogurt'}\n",
      "Executing tool: web_search with args: {'query': 'is nonfat lemon yogurt vegan'}\n"
     ]
    },
    {
     "name": "stderr",
     "output_type": "stream",
     "text": [
      "594it [01:44, 10.04it/s]"
     ]
    },
    {
     "name": "stdout",
     "output_type": "stream",
     "text": [
      "Executing tool: web_search with args: {'query': 'carbohydrates per 100g of orange glaze'}\n",
      "Executing tool: web_search with args: {'query': 'is orange glaze vegan'}\n"
     ]
    },
    {
     "name": "stderr",
     "output_type": "stream",
     "text": [
      "607it [01:49,  7.97it/s]"
     ]
    },
    {
     "name": "stdout",
     "output_type": "stream",
     "text": [
      "Executing tool: web_search with args: {'query': 'creamy chocolate frosting carbohydrates per 100g'}\n",
      "Executing tool: web_search with args: {'query': 'is creamy chocolate frosting vegan'}\n"
     ]
    },
    {
     "name": "stderr",
     "output_type": "stream",
     "text": [
      "619it [01:53,  6.39it/s]"
     ]
    },
    {
     "name": "stdout",
     "output_type": "stream",
     "text": [
      "Executing tool: web_search with args: {'query': 'Kentucky Fruit Filling carbohydrates per 100g'}\n",
      "Executing tool: web_search with args: {'query': 'Kentucky Fruit Filling vegan'}\n"
     ]
    },
    {
     "name": "stderr",
     "output_type": "stream",
     "text": [
      "621it [01:57,  4.74it/s]"
     ]
    },
    {
     "name": "stdout",
     "output_type": "stream",
     "text": [
      "Executing tool: web_search with args: {'query': 'Cheez-It® Original Baked Snack Crackers carbohydrates per 100g'}\n",
      "Executing tool: web_search with args: {'query': 'Cheez-It® Original Baked Snack Crackers vegan'}\n"
     ]
    },
    {
     "name": "stderr",
     "output_type": "stream",
     "text": [
      "636it [02:03,  3.98it/s]"
     ]
    },
    {
     "name": "stdout",
     "output_type": "stream",
     "text": [
      "Executing tool: web_search with args: {'query': 'carbohydrates per 100g dry pizza crust mix'}\n",
      "Executing tool: web_search with args: {'query': 'is dry pizza crust mix vegan'}\n"
     ]
    },
    {
     "name": "stderr",
     "output_type": "stream",
     "text": [
      "692it [02:07,  6.50it/s]"
     ]
    },
    {
     "name": "stdout",
     "output_type": "stream",
     "text": [
      "Executing tool: web_search with args: {'query': 'carbohydrates per 100g in small pretzels (twists)'}\n",
      "Executing tool: web_search with args: {'query': 'are small pretzels (twists) vegan'}\n"
     ]
    },
    {
     "name": "stderr",
     "output_type": "stream",
     "text": [
      "758it [02:13,  8.50it/s]"
     ]
    },
    {
     "name": "stdout",
     "output_type": "stream",
     "text": [
      "Executing tool: web_search with args: {'query': 'Beau Monde ™ seasoning carbohydrates per 100g'}\n",
      "Executing tool: web_search with args: {'query': 'Is Beau Monde ™ seasoning vegan'}\n"
     ]
    },
    {
     "name": "stderr",
     "output_type": "stream",
     "text": [
      "796it [02:17,  8.40it/s]"
     ]
    },
    {
     "name": "stdout",
     "output_type": "stream",
     "text": [
      "Executing tool: web_search with args: {'query': 'Cheez-It White Cheddar Baked Snack Crackers carbohydrates per 100g'}\n",
      "Executing tool: web_search with args: {'query': 'Cheez-It White Cheddar Baked Snack Crackers vegan'}\n"
     ]
    },
    {
     "name": "stderr",
     "output_type": "stream",
     "text": [
      "840it [02:21,  8.99it/s]"
     ]
    },
    {
     "name": "stdout",
     "output_type": "stream",
     "text": [
      "Executing tool: web_search with args: {'query': 'carbohydrates per 100g of blue corn posole'}\n",
      "Executing tool: web_search with args: {'query': 'is blue corn posole vegan'}\n"
     ]
    },
    {
     "name": "stderr",
     "output_type": "stream",
     "text": [
      "856it [02:26,  7.43it/s]"
     ]
    },
    {
     "name": "stdout",
     "output_type": "stream",
     "text": [
      "Executing tool: web_search with args: {'query': 'colaciones candies carbohydrates per 100g'}\n",
      "Executing tool: web_search with args: {'query': 'colaciones candies vegan'}\n"
     ]
    },
    {
     "name": "stderr",
     "output_type": "stream",
     "text": [
      "867it [02:32,  5.43it/s]"
     ]
    },
    {
     "name": "stdout",
     "output_type": "stream",
     "text": [
      "Executing tool: web_search with args: {'query': 'carbohydrates in 100g of brown ale or amber beer'}\n",
      "Executing tool: web_search with args: {'query': 'is brown ale or amber beer vegan'}\n"
     ]
    },
    {
     "name": "stderr",
     "output_type": "stream",
     "text": [
      "1003it [02:37, 11.84it/s]"
     ]
    },
    {
     "name": "stdout",
     "output_type": "stream",
     "text": [
      "Executing tool: web_search with args: {'query': 'carbohydrates in 100g of annatto or achiote powder'}\n",
      "Executing tool: web_search with args: {'query': 'is annatto or achiote powder vegan'}\n"
     ]
    },
    {
     "name": "stderr",
     "output_type": "stream",
     "text": [
      "1022it [02:41,  9.72it/s]"
     ]
    },
    {
     "name": "stdout",
     "output_type": "stream",
     "text": [
      "Executing tool: web_search with args: {'query': 'carbohydrates per 100g Basic Cookie Mix'}\n",
      "Executing tool: web_search with args: {'query': 'is Basic Cookie Mix vegan'}\n"
     ]
    },
    {
     "name": "stderr",
     "output_type": "stream",
     "text": [
      "1049it [02:46,  8.68it/s]"
     ]
    },
    {
     "name": "stdout",
     "output_type": "stream",
     "text": [
      "Executing tool: web_search with args: {'query': 'carbohydrates per 100g lime flavored Jell-O® mix'}\n",
      "Executing tool: web_search with args: {'query': 'is lime flavored Jell-O® mix vegan'}\n"
     ]
    },
    {
     "name": "stderr",
     "output_type": "stream",
     "text": [
      "1053it [02:50,  6.58it/s]"
     ]
    },
    {
     "name": "stdout",
     "output_type": "stream",
     "text": [
      "Executing tool: web_search with args: {'query': 'carbohydrates per 100g of FILLING'}\n",
      "Executing tool: web_search with args: {'query': 'is FILLING vegan'}\n"
     ]
    },
    {
     "name": "stderr",
     "output_type": "stream",
     "text": [
      "1069it [02:55,  5.62it/s]"
     ]
    },
    {
     "name": "stdout",
     "output_type": "stream",
     "text": [
      "Executing tool: web_search with args: {'query': 'carbohydrates per 100g instant banana pudding mix'}\n",
      "Executing tool: web_search with args: {'query': 'is instant banana pudding mix vegan'}\n"
     ]
    },
    {
     "name": "stderr",
     "output_type": "stream",
     "text": [
      "1103it [02:59,  6.23it/s]"
     ]
    },
    {
     "name": "stdout",
     "output_type": "stream",
     "text": [
      "Executing tool: web_search with args: {'query': 'carbohydrates per 100g candy lime slices'}\n",
      "Executing tool: web_search with args: {'query': 'are candy lime slices vegan'}\n"
     ]
    },
    {
     "name": "stderr",
     "output_type": "stream",
     "text": [
      "1117it [03:05,  4.80it/s]"
     ]
    },
    {
     "name": "stdout",
     "output_type": "stream",
     "text": [
      "Executing tool: web_search with args: {'query': 'carbohydrates per 100g pitted tart red cherries, blueberries, raspberries'}\n",
      "Executing tool: web_search with args: {'query': 'are pitted tart red cherries, blueberries, raspberries vegan'}\n"
     ]
    },
    {
     "name": "stderr",
     "output_type": "stream",
     "text": [
      "1148it [03:10,  5.38it/s]"
     ]
    },
    {
     "name": "stdout",
     "output_type": "stream",
     "text": [
      "Executing tool: web_search with args: {'query': 'carbohydrates per 100g dark chocolate cake mix'}\n",
      "Executing tool: web_search with args: {'query': 'is dark chocolate cake mix vegan'}\n"
     ]
    },
    {
     "name": "stderr",
     "output_type": "stream",
     "text": [
      "1151it [03:14,  4.06it/s]"
     ]
    },
    {
     "name": "stdout",
     "output_type": "stream",
     "text": [
      "Executing tool: web_search with args: {'query': 'carbohydrates per 100g in unbaked deep-dish pastry shell'}\n",
      "Executing tool: web_search with args: {'query': 'is unbaked deep-dish pastry shell vegan'}\n"
     ]
    },
    {
     "name": "stderr",
     "output_type": "stream",
     "text": [
      "1222it [03:19,  7.27it/s]"
     ]
    },
    {
     "name": "stdout",
     "output_type": "stream",
     "text": [
      "Executing tool: web_search with args: {'query': 'carbohydrates per 100g strawberry frosting mix'}\n",
      "Executing tool: web_search with args: {'query': 'is strawberry frosting mix vegan'}\n"
     ]
    },
    {
     "name": "stderr",
     "output_type": "stream",
     "text": [
      "1228it [03:23,  5.58it/s]"
     ]
    },
    {
     "name": "stdout",
     "output_type": "stream",
     "text": [
      "Executing tool: web_search with args: {'query': 'karengo seaweed carbohydrates per 100g'}\n",
      "Executing tool: web_search with args: {'query': 'is karengo seaweed vegan'}\n"
     ]
    },
    {
     "name": "stderr",
     "output_type": "stream",
     "text": [
      "1251it [03:28,  5.39it/s]"
     ]
    },
    {
     "name": "stdout",
     "output_type": "stream",
     "text": [
      "Executing tool: web_search with args: {'query': 'carbohydrates per 100g McCormick® Freeze-Dried Chives'}\n",
      "Executing tool: web_search with args: {'query': 'is McCormick® Freeze-Dried Chives vegan'}\n"
     ]
    },
    {
     "name": "stderr",
     "output_type": "stream",
     "text": [
      "1255it [03:36,  3.38it/s]"
     ]
    },
    {
     "name": "stdout",
     "output_type": "stream",
     "text": [
      "Executing tool: web_search with args: {'query': 'carbohydrates per 100g low calorie chocolate cake mix'}\n",
      "Executing tool: web_search with args: {'query': 'is low calorie chocolate cake mix vegan'}\n"
     ]
    },
    {
     "name": "stderr",
     "output_type": "stream",
     "text": [
      "1317it [03:40,  6.05it/s]"
     ]
    },
    {
     "name": "stdout",
     "output_type": "stream",
     "text": [
      "Executing tool: web_search with args: {'query': 'carbohydrates per 100g pastry for single crust pie'}\n",
      "Executing tool: web_search with args: {'query': 'is pastry for single crust pie vegan'}\n"
     ]
    },
    {
     "name": "stderr",
     "output_type": "stream",
     "text": [
      "1361it [03:45,  7.01it/s]"
     ]
    },
    {
     "name": "stdout",
     "output_type": "stream",
     "text": [
      "Executing tool: web_search with args: {'query': 'carbohydrates per 100g in butternut flavored extract'}\n",
      "Executing tool: web_search with args: {'query': 'is butternut flavored extract vegan'}\n"
     ]
    },
    {
     "name": "stderr",
     "output_type": "stream",
     "text": [
      "1419it [03:50,  8.53it/s]"
     ]
    },
    {
     "name": "stdout",
     "output_type": "stream",
     "text": [
      "Executing tool: web_search with args: {'query': 'carbohydrates per 100g Italian flat leaf parsley'}\n",
      "Executing tool: web_search with args: {'query': 'is Italian flat leaf parsley vegan'}\n"
     ]
    },
    {
     "name": "stderr",
     "output_type": "stream",
     "text": [
      "1446it [03:54,  7.96it/s]"
     ]
    },
    {
     "name": "stdout",
     "output_type": "stream",
     "text": [
      "Executing tool: web_search with args: {'query': 'carbohydrates per 100g crispy corn cereal squares'}\n",
      "Executing tool: web_search with args: {'query': 'is crispy corn cereal squares vegan'}\n"
     ]
    },
    {
     "name": "stderr",
     "output_type": "stream",
     "text": [
      "1449it [03:58,  5.87it/s]"
     ]
    },
    {
     "name": "stdout",
     "output_type": "stream",
     "text": [
      "Executing tool: web_search with args: {'query': 'JELL-O Chocolate Flavor or Vanilla Flavor Instant Pudding & Pie Filling Mix carbohydrates per 100g'}\n",
      "Executing tool: web_search with args: {'query': 'Is JELL-O Chocolate Flavor or Vanilla Flavor Instant Pudding & Pie Filling Mix vegan'}\n"
     ]
    },
    {
     "name": "stderr",
     "output_type": "stream",
     "text": [
      "1554it [04:06,  9.19it/s]"
     ]
    },
    {
     "name": "stdout",
     "output_type": "stream",
     "text": [
      "Executing tool: web_search with args: {'query': 'Cheez-It Hot and Spicy Baked Snack Crackers carbohydrates per 100g'}\n",
      "Executing tool: web_search with args: {'query': 'Cheez-It Hot and Spicy Baked Snack Crackers vegan'}\n"
     ]
    },
    {
     "name": "stderr",
     "output_type": "stream",
     "text": [
      "1582it [04:11,  8.28it/s]"
     ]
    },
    {
     "name": "stdout",
     "output_type": "stream",
     "text": [
      "Executing tool: web_search with args: {'query': 'carbohydrates per 100g in apple filling'}\n",
      "Executing tool: web_search with args: {'query': 'is apple filling vegan'}\n"
     ]
    },
    {
     "name": "stderr",
     "output_type": "stream",
     "text": [
      "1650it [04:15, 10.28it/s]"
     ]
    },
    {
     "name": "stdout",
     "output_type": "stream",
     "text": [
      "Executing tool: web_search with args: {'query': 'carbohydrates per 100g caramel ice cream topping'}\n",
      "Executing tool: web_search with args: {'query': 'is caramel ice cream topping vegan'}\n"
     ]
    },
    {
     "name": "stderr",
     "output_type": "stream",
     "text": [
      "1664it [04:20,  7.87it/s]"
     ]
    },
    {
     "name": "stdout",
     "output_type": "stream",
     "text": [
      "Executing tool: web_search with args: {'query': 'carbohydrates per 100g Amish Friendship Bread Starter'}\n",
      "Executing tool: web_search with args: {'query': 'is Amish Friendship Bread Starter vegan'}\n"
     ]
    },
    {
     "name": "stderr",
     "output_type": "stream",
     "text": [
      "1704it [04:25,  8.01it/s]"
     ]
    },
    {
     "name": "stdout",
     "output_type": "stream",
     "text": [
      "Executing tool: web_search with args: {'query': 'carbohydrates per 100g cheese and garlic dry salad dressing mix'}\n",
      "Executing tool: web_search with args: {'query': 'is cheese and garlic dry salad dressing mix vegan'}\n"
     ]
    },
    {
     "name": "stderr",
     "output_type": "stream",
     "text": [
      "1777it [04:29, 10.31it/s]"
     ]
    },
    {
     "name": "stdout",
     "output_type": "stream",
     "text": [
      "Executing tool: web_search with args: {'query': 'carbohydrates per 100g apricot flavored Jell-O® mix'}\n",
      "Executing tool: web_search with args: {'query': 'is apricot flavored Jell-O® mix vegan'}\n"
     ]
    },
    {
     "name": "stderr",
     "output_type": "stream",
     "text": [
      "1851it [04:34, 11.86it/s]"
     ]
    },
    {
     "name": "stdout",
     "output_type": "stream",
     "text": [
      "Executing tool: web_search with args: {'query': 'KEEBLER® Fudge Shoppe® Grasshopper Cookies carbohydrates per 100g'}\n",
      "Executing tool: web_search with args: {'query': 'KEEBLER® Fudge Shoppe® Grasshopper Cookies vegan'}\n"
     ]
    },
    {
     "name": "stderr",
     "output_type": "stream",
     "text": [
      "1855it [04:42,  7.27it/s]"
     ]
    },
    {
     "name": "stdout",
     "output_type": "stream",
     "text": [
      "Executing tool: web_search with args: {'query': 'carbohydrates per 100g black cherry flavored Jell-O® mix'}\n",
      "Executing tool: web_search with args: {'query': 'is black cherry flavored Jell-O® mix vegan'}\n"
     ]
    },
    {
     "name": "stderr",
     "output_type": "stream",
     "text": [
      "1941it [04:47, 10.01it/s]"
     ]
    },
    {
     "name": "stdout",
     "output_type": "stream",
     "text": [
      "Executing tool: web_search with args: {'query': 'carbohydrates per 100g garlic and olive oil vermicelli mix'}\n",
      "Executing tool: web_search with args: {'query': 'is garlic and olive oil vermicelli mix vegan'}\n"
     ]
    },
    {
     "name": "stderr",
     "output_type": "stream",
     "text": [
      "2021it [04:51, 12.12it/s]"
     ]
    },
    {
     "name": "stdout",
     "output_type": "stream",
     "text": [
      "Executing tool: web_search with args: {'query': 'carbohydrates per 100g in Apple filling'}\n",
      "Executing tool: web_search with args: {'query': 'is Apple filling vegan'}\n"
     ]
    },
    {
     "name": "stderr",
     "output_type": "stream",
     "text": [
      "2030it [04:56,  9.45it/s]"
     ]
    },
    {
     "name": "stdout",
     "output_type": "stream",
     "text": [
      "Executing tool: web_search with args: {'query': 'carbohydrates per 100g of Peach Filling'}\n",
      "Executing tool: web_search with args: {'query': 'is Peach Filling vegan'}\n"
     ]
    },
    {
     "name": "stderr",
     "output_type": "stream",
     "text": [
      "2044it [05:00,  7.87it/s]"
     ]
    },
    {
     "name": "stdout",
     "output_type": "stream",
     "text": [
      "Executing tool: web_search with args: {'query': 'carbohydrates per 100g mint chocolate chip ice cream'}\n",
      "Executing tool: web_search with args: {'query': 'is mint chocolate chip ice cream vegan'}\n"
     ]
    },
    {
     "name": "stderr",
     "output_type": "stream",
     "text": [
      "2079it [05:04,  7.88it/s]"
     ]
    },
    {
     "name": "stdout",
     "output_type": "stream",
     "text": [
      "Executing tool: web_search with args: {'query': 'carbohydrates per 100g instant mocha mint coffee powder'}\n",
      "Executing tool: web_search with args: {'query': 'is instant mocha mint coffee powder vegan'}\n"
     ]
    },
    {
     "name": "stderr",
     "output_type": "stream",
     "text": [
      "2103it [05:10,  6.49it/s]"
     ]
    },
    {
     "name": "stdout",
     "output_type": "stream",
     "text": [
      "Executing tool: web_search with args: {'query': 'Herman Sourdough Starter carbohydrates per 100g'}\n",
      "Executing tool: web_search with args: {'query': 'Is Herman Sourdough Starter vegan'}\n"
     ]
    },
    {
     "name": "stderr",
     "output_type": "stream",
     "text": [
      "2138it [05:14,  6.89it/s]"
     ]
    },
    {
     "name": "stdout",
     "output_type": "stream",
     "text": [
      "Executing tool: web_search with args: {'query': 'carbohydrates per 100g of Filling: food ingredient'}\n",
      "Executing tool: web_search with args: {'query': 'is Filling: food ingredient vegan'}\n"
     ]
    },
    {
     "name": "stderr",
     "output_type": "stream",
     "text": [
      "2172it [05:19,  6.86it/s]"
     ]
    },
    {
     "name": "stdout",
     "output_type": "stream",
     "text": [
      "Executing tool: web_search with args: {'query': 'carbohydrates per 100g Apple fruit filling and topping'}\n",
      "Executing tool: web_search with args: {'query': 'is Apple fruit filling and topping vegan'}\n"
     ]
    },
    {
     "name": "stderr",
     "output_type": "stream",
     "text": [
      "2323it [05:24, 14.17it/s]"
     ]
    },
    {
     "name": "stdout",
     "output_type": "stream",
     "text": [
      "Executing tool: web_search with args: {'query': 'carbohydrates per 100g in black walnut extract'}\n",
      "Executing tool: web_search with args: {'query': 'is black walnut extract vegan'}\n"
     ]
    },
    {
     "name": "stderr",
     "output_type": "stream",
     "text": [
      "2328it [05:29, 10.32it/s]"
     ]
    },
    {
     "name": "stdout",
     "output_type": "stream",
     "text": [
      "Executing tool: web_search with args: {'query': 'Friendship Fruit Starter carbohydrates per 100g'}\n",
      "Executing tool: web_search with args: {'query': 'Friendship Fruit Starter vegan'}\n"
     ]
    },
    {
     "name": "stderr",
     "output_type": "stream",
     "text": [
      "2349it [05:34,  8.58it/s]"
     ]
    },
    {
     "name": "stdout",
     "output_type": "stream",
     "text": [
      "Executing tool: web_search with args: {'query': 'carbohydrates per 100g instant coconut cream pudding mix'}\n",
      "Executing tool: web_search with args: {'query': 'is instant coconut cream pudding mix vegan'}\n"
     ]
    },
    {
     "name": "stderr",
     "output_type": "stream",
     "text": [
      "2402it [05:38,  9.51it/s]"
     ]
    },
    {
     "name": "stdout",
     "output_type": "stream",
     "text": [
      "Executing tool: web_search with args: {'query': 'carbohydrates per 100g of bouquet garni spice balls'}\n",
      "Executing tool: web_search with args: {'query': 'is bouquet garni spice balls vegan'}\n"
     ]
    },
    {
     "name": "stderr",
     "output_type": "stream",
     "text": [
      "2442it [05:44,  8.61it/s]"
     ]
    },
    {
     "name": "stdout",
     "output_type": "stream",
     "text": [
      "Executing tool: web_search with args: {'query': 'BUITONI® Family Size Three Cheese Tortellini carbohydrates per 100g'}\n",
      "Executing tool: web_search with args: {'query': 'BUITONI® Family Size Three Cheese Tortellini vegan'}\n"
     ]
    },
    {
     "name": "stderr",
     "output_type": "stream",
     "text": [
      "2456it [05:48,  7.12it/s]"
     ]
    },
    {
     "name": "stdout",
     "output_type": "stream",
     "text": [
      "Executing tool: web_search with args: {'query': 'carbohydrates per 100g in orange-flavored drink mix'}\n",
      "Executing tool: web_search with args: {'query': 'is orange-flavored drink mix vegan'}\n"
     ]
    },
    {
     "name": "stderr",
     "output_type": "stream",
     "text": [
      "2503it [05:53,  8.14it/s]"
     ]
    },
    {
     "name": "stdout",
     "output_type": "stream",
     "text": [
      "Executing tool: web_search with args: {'query': 'carbohydrates per 100g fun size bars chocolate-coated caramel-peanut nougat candy'}\n",
      "Executing tool: web_search with args: {'query': 'is fun size bars chocolate-coated caramel-peanut nougat candy vegan'}\n"
     ]
    },
    {
     "name": "stderr",
     "output_type": "stream",
     "text": [
      "2528it [05:57,  7.37it/s]"
     ]
    },
    {
     "name": "stdout",
     "output_type": "stream",
     "text": [
      "Executing tool: web_search with args: {'query': 'carbohydrates per 100g McCormick® Whole Allspice'}\n",
      "Executing tool: web_search with args: {'query': 'is McCormick® Whole Allspice vegan'}\n"
     ]
    },
    {
     "name": "stderr",
     "output_type": "stream",
     "text": [
      "2544it [06:02,  6.17it/s]"
     ]
    },
    {
     "name": "stdout",
     "output_type": "stream",
     "text": [
      "Executing tool: web_search with args: {'query': 'Topping carbohydrates per 100g'}\n",
      "Executing tool: web_search with args: {'query': 'Topping vegan'}\n"
     ]
    },
    {
     "name": "stderr",
     "output_type": "stream",
     "text": [
      "2573it [06:06,  6.55it/s]"
     ]
    },
    {
     "name": "stdout",
     "output_type": "stream",
     "text": [
      "Executing tool: web_search with args: {'query': 'carbohydrates per 100g fun size bars chocolate-coated caramel-peanut nougat'}\n",
      "Executing tool: web_search with args: {'query': 'is fun size bars chocolate-coated caramel-peanut nougat vegan'}\n"
     ]
    },
    {
     "name": "stderr",
     "output_type": "stream",
     "text": [
      "2574it [06:11,  4.27it/s]"
     ]
    },
    {
     "name": "stdout",
     "output_type": "stream",
     "text": [
      "Executing tool: web_search with args: {'query': 'carbohydrates per 100g in peanut butter flavored pieces'}\n",
      "Executing tool: web_search with args: {'query': 'are peanut butter flavored pieces vegan'}\n"
     ]
    },
    {
     "name": "stderr",
     "output_type": "stream",
     "text": [
      "2619it [06:16,  5.96it/s]"
     ]
    },
    {
     "name": "stdout",
     "output_type": "stream",
     "text": [
      "Executing tool: web_search with args: {'query': 'carbohydrates per 100g McCormick® Hollandaise Sauce Blend'}\n",
      "Executing tool: web_search with args: {'query': 'is McCormick® Hollandaise Sauce Blend vegan'}\n"
     ]
    },
    {
     "name": "stderr",
     "output_type": "stream",
     "text": [
      "2694it [06:21,  8.58it/s]"
     ]
    },
    {
     "name": "stdout",
     "output_type": "stream",
     "text": [
      "Executing tool: web_search with args: {'query': 'Filling carbohydrates per 100g'}\n",
      "Executing tool: web_search with args: {'query': 'Filling vegan'}\n"
     ]
    },
    {
     "name": "stderr",
     "output_type": "stream",
     "text": [
      "2697it [06:25,  6.63it/s]"
     ]
    },
    {
     "name": "stdout",
     "output_type": "stream",
     "text": [
      "Executing tool: web_search with args: {'query': 'carbohydrates per 100g crushed tortilla chip crumbs'}\n",
      "Executing tool: web_search with args: {'query': 'are crushed tortilla chip crumbs vegan'}\n"
     ]
    },
    {
     "name": "stderr",
     "output_type": "stream",
     "text": [
      "2714it [06:29,  5.81it/s]"
     ]
    },
    {
     "name": "stdout",
     "output_type": "stream",
     "text": [
      "Executing tool: web_search with args: {'query': 'carbohydrates in 100g of tiger lily buds'}\n",
      "Executing tool: web_search with args: {'query': 'are tiger lily buds vegan'}\n"
     ]
    },
    {
     "name": "stderr",
     "output_type": "stream",
     "text": [
      "2722it [06:34,  4.58it/s]"
     ]
    },
    {
     "name": "stdout",
     "output_type": "stream",
     "text": [
      "Executing tool: web_search with args: {'query': 'Bottom Layer carbohydrates per 100g'}\n",
      "Executing tool: web_search with args: {'query': 'Bottom Layer vegan'}\n"
     ]
    },
    {
     "name": "stderr",
     "output_type": "stream",
     "text": [
      "2766it [06:38,  6.25it/s]"
     ]
    },
    {
     "name": "stdout",
     "output_type": "stream",
     "text": [
      "Executing tool: web_search with args: {'query': 'carbohydrates per 100g of TOPPING'}\n",
      "Executing tool: web_search with args: {'query': 'is TOPPING vegan'}\n"
     ]
    },
    {
     "name": "stderr",
     "output_type": "stream",
     "text": [
      "2791it [06:44,  5.65it/s]"
     ]
    },
    {
     "name": "stdout",
     "output_type": "stream",
     "text": [
      "Executing tool: web_search with args: {'query': 'carbohydrates per 100g of dried savory'}\n",
      "Executing tool: web_search with args: {'query': 'is dried savory vegan'}\n"
     ]
    },
    {
     "name": "stderr",
     "output_type": "stream",
     "text": [
      "2796it [06:48,  4.38it/s]"
     ]
    },
    {
     "name": "stdout",
     "output_type": "stream",
     "text": [
      "Executing tool: web_search with args: {'query': 'carbohydrates per 100g Original Cheez-It® Snack Crackers'}\n",
      "Executing tool: web_search with args: {'query': 'is Original Cheez-It® Snack Crackers vegan'}\n"
     ]
    },
    {
     "name": "stderr",
     "output_type": "stream",
     "text": [
      "2859it [06:53,  6.98it/s]"
     ]
    },
    {
     "name": "stdout",
     "output_type": "stream",
     "text": [
      "Executing tool: web_search with args: {'query': 'carbohydrates per 100g chocolate chip cake mix with pudding'}\n",
      "Executing tool: web_search with args: {'query': 'is chocolate chip cake mix with pudding vegan'}\n"
     ]
    },
    {
     "name": "stderr",
     "output_type": "stream",
     "text": [
      "2862it [06:58,  5.09it/s]"
     ]
    },
    {
     "name": "stdout",
     "output_type": "stream",
     "text": [
      "Executing tool: web_search with args: {'query': 'carbohydrates per 100g dry sweetened cereal'}\n",
      "Executing tool: web_search with args: {'query': 'is dry sweetened cereal vegan'}\n"
     ]
    },
    {
     "name": "stderr",
     "output_type": "stream",
     "text": [
      "2877it [07:02,  4.61it/s]"
     ]
    },
    {
     "name": "stdout",
     "output_type": "stream",
     "text": [
      "Executing tool: web_search with args: {'query': 'carbohydrates per 100g of orange extract'}\n",
      "Executing tool: web_search with args: {'query': 'is orange extract vegan'}\n"
     ]
    },
    {
     "name": "stderr",
     "output_type": "stream",
     "text": [
      "2915it [07:07,  5.77it/s]"
     ]
    },
    {
     "name": "stdout",
     "output_type": "stream",
     "text": [
      "Executing tool: web_search with args: {'query': 'KEEBLER® Rainbow USA Chips Deluxe™ Cookies carbohydrates per 100g'}\n",
      "Executing tool: web_search with args: {'query': 'KEEBLER® Rainbow USA Chips Deluxe™ Cookies vegan'}\n"
     ]
    },
    {
     "name": "stderr",
     "output_type": "stream",
     "text": [
      "2917it [07:15,  3.33it/s]"
     ]
    },
    {
     "name": "stdout",
     "output_type": "stream",
     "text": [
      "Executing tool: web_search with args: {'query': 'carbohydrates per 100g in buttermilk self-rising cornmeal mix'}\n",
      "Executing tool: web_search with args: {'query': 'is buttermilk self-rising cornmeal mix vegan'}\n"
     ]
    },
    {
     "name": "stderr",
     "output_type": "stream",
     "text": [
      "2944it [07:20,  3.99it/s]"
     ]
    },
    {
     "name": "stdout",
     "output_type": "stream",
     "text": [
      "Executing tool: web_search with args: {'query': 'carbohydrates per 100g in hoagie or submarine buns'}\n",
      "Executing tool: web_search with args: {'query': 'are hoagie or submarine buns vegan'}\n"
     ]
    },
    {
     "name": "stderr",
     "output_type": "stream",
     "text": [
      "2968it [07:24,  4.33it/s]"
     ]
    },
    {
     "name": "stdout",
     "output_type": "stream",
     "text": [
      "Executing tool: web_search with args: {'query': 'Club® Crackers carbohydrates per 100g'}\n",
      "Executing tool: web_search with args: {'query': 'Club® Crackers vegan'}\n"
     ]
    },
    {
     "name": "stderr",
     "output_type": "stream",
     "text": [
      "3039it [07:29,  7.39it/s]"
     ]
    },
    {
     "name": "stdout",
     "output_type": "stream",
     "text": [
      "Executing tool: web_search with args: {'query': 'BUITONI® refrigerated Family Size Four Cheese Ravioli carbohydrates per 100g'}\n",
      "Executing tool: web_search with args: {'query': 'Is BUITONI® refrigerated Family Size Four Cheese Ravioli vegan'}\n"
     ]
    },
    {
     "name": "stderr",
     "output_type": "stream",
     "text": [
      "3050it [07:33,  5.99it/s]"
     ]
    },
    {
     "name": "stdout",
     "output_type": "stream",
     "text": [
      "Executing tool: web_search with args: {'query': 'carbohydrates per 100g of jicama'}\n",
      "Executing tool: web_search with args: {'query': 'is jicama vegan'}\n"
     ]
    },
    {
     "name": "stderr",
     "output_type": "stream",
     "text": [
      "3097it [07:38,  7.16it/s]"
     ]
    },
    {
     "name": "stdout",
     "output_type": "stream",
     "text": [
      "Executing tool: web_search with args: {'query': 'carbohydrates per 100g of fermented black beans'}\n",
      "Executing tool: web_search with args: {'query': 'are fermented black beans vegan'}\n"
     ]
    },
    {
     "name": "stderr",
     "output_type": "stream",
     "text": [
      "3102it [07:43,  5.15it/s]"
     ]
    },
    {
     "name": "stdout",
     "output_type": "stream",
     "text": [
      "Executing tool: web_search with args: {'query': 'carbohydrates per 100g in apricot spreadable fruit'}\n",
      "Executing tool: web_search with args: {'query': 'is apricot spreadable fruit vegan'}\n"
     ]
    },
    {
     "name": "stderr",
     "output_type": "stream",
     "text": [
      "3152it [07:49,  6.29it/s]"
     ]
    },
    {
     "name": "stdout",
     "output_type": "stream",
     "text": [
      "Executing tool: web_search with args: {'query': 'carbohydrates per 100g strawberry flavored Jell-O® mix'}\n",
      "Executing tool: web_search with args: {'query': 'is strawberry flavored Jell-O® mix vegan'}\n"
     ]
    },
    {
     "name": "stderr",
     "output_type": "stream",
     "text": [
      "3162it [07:54,  5.12it/s]"
     ]
    },
    {
     "name": "stdout",
     "output_type": "stream",
     "text": [
      "Executing tool: web_search with args: {'query': 'Top Layer carbohydrates per 100g'}\n",
      "Executing tool: web_search with args: {'query': 'Top Layer vegan'}\n"
     ]
    },
    {
     "name": "stderr",
     "output_type": "stream",
     "text": [
      "3202it [07:59,  6.14it/s]"
     ]
    },
    {
     "name": "stdout",
     "output_type": "stream",
     "text": [
      "Executing tool: web_search with args: {'query': 'carbohydrates per 100g crushed pineapple pie filling'}\n",
      "Executing tool: web_search with args: {'query': 'is crushed pineapple pie filling vegan'}\n"
     ]
    },
    {
     "name": "stderr",
     "output_type": "stream",
     "text": [
      "3225it [08:03,  5.82it/s]"
     ]
    },
    {
     "name": "stdout",
     "output_type": "stream",
     "text": [
      "Executing tool: web_search with args: {'query': 'carbohydrates in 100g of pear'}\n",
      "Executing tool: web_search with args: {'query': 'is pear vegan'}\n"
     ]
    },
    {
     "name": "stderr",
     "output_type": "stream",
     "text": [
      "3229it [08:07,  4.50it/s]"
     ]
    },
    {
     "name": "stdout",
     "output_type": "stream",
     "text": [
      "Executing tool: web_search with args: {'query': 'carbohydrates per 100g in wild rice'}\n",
      "Executing tool: web_search with args: {'query': 'is wild rice vegan'}\n"
     ]
    },
    {
     "name": "stderr",
     "output_type": "stream",
     "text": [
      "3252it [08:12,  4.71it/s]"
     ]
    },
    {
     "name": "stdout",
     "output_type": "stream",
     "text": [
      "Executing tool: web_search with args: {'query': 'carbohydrates in 100g of sliced peaches in heavy syrup'}\n",
      "Executing tool: web_search with args: {'query': 'is sliced peaches in heavy syrup vegan'}\n"
     ]
    },
    {
     "name": "stderr",
     "output_type": "stream",
     "text": [
      "3267it [08:18,  3.91it/s]"
     ]
    },
    {
     "name": "stdout",
     "output_type": "stream",
     "text": [
      "Executing tool: web_search with args: {'query': 'anisette toasts carbohydrates per 100g'}\n",
      "Executing tool: web_search with args: {'query': 'anisette toasts vegan'}\n"
     ]
    },
    {
     "name": "stderr",
     "output_type": "stream",
     "text": [
      "3270it [08:22,  3.03it/s]"
     ]
    },
    {
     "name": "stdout",
     "output_type": "stream",
     "text": [
      "Executing tool: web_search with args: {'query': 'BUITONI® Family Size Mozzarella and Pepperoni Tortelloni carbohydrates per 100g'}\n",
      "Executing tool: web_search with args: {'query': 'BUITONI® Family Size Mozzarella and Pepperoni Tortelloni vegan'}\n"
     ]
    },
    {
     "name": "stderr",
     "output_type": "stream",
     "text": [
      "3305it [08:27,  4.31it/s]"
     ]
    },
    {
     "name": "stdout",
     "output_type": "stream",
     "text": [
      "Executing tool: web_search with args: {'query': 'carbohydrates per 100g green candy coating'}\n",
      "Executing tool: web_search with args: {'query': 'is green candy coating vegan'}\n"
     ]
    },
    {
     "name": "stderr",
     "output_type": "stream",
     "text": [
      "3330it [08:32,  4.49it/s]"
     ]
    },
    {
     "name": "stdout",
     "output_type": "stream",
     "text": [
      "Executing tool: web_search with args: {'query': 'carbohydrates per 100g cherry flavored Jell-O® mix'}\n",
      "Executing tool: web_search with args: {'query': 'is cherry flavored Jell-O® mix vegan'}\n"
     ]
    },
    {
     "name": "stderr",
     "output_type": "stream",
     "text": [
      "3340it [08:37,  3.85it/s]"
     ]
    },
    {
     "name": "stdout",
     "output_type": "stream",
     "text": [
      "Executing tool: web_search with args: {'query': 'BUITONI® Mushroom & Cheese Tortelloni carbohydrates per 100g'}\n",
      "Executing tool: web_search with args: {'query': 'BUITONI® Mushroom & Cheese Tortelloni vegan'}\n"
     ]
    },
    {
     "name": "stderr",
     "output_type": "stream",
     "text": [
      "3352it [08:41,  3.51it/s]"
     ]
    },
    {
     "name": "stdout",
     "output_type": "stream",
     "text": [
      "Executing tool: web_search with args: {'query': 'carbohydrates per 100g in fat free butter flavored granules'}\n",
      "Executing tool: web_search with args: {'query': 'is fat free butter flavored granules vegan'}\n"
     ]
    },
    {
     "name": "stderr",
     "output_type": "stream",
     "text": [
      "3377it [08:46,  4.08it/s]"
     ]
    },
    {
     "name": "stdout",
     "output_type": "stream",
     "text": [
      "Executing tool: web_search with args: {'query': 'carbohydrates per 100g of ovalette'}\n",
      "Executing tool: web_search with args: {'query': 'is ovalette vegan'}\n"
     ]
    },
    {
     "name": "stderr",
     "output_type": "stream",
     "text": [
      "3469it [08:51,  8.18it/s]"
     ]
    },
    {
     "name": "stdout",
     "output_type": "stream",
     "text": [
      "Executing tool: web_search with args: {'query': 'carbohydrates per 100g in banana extract'}\n",
      "Executing tool: web_search with args: {'query': 'is banana extract vegan'}\n"
     ]
    },
    {
     "name": "stderr",
     "output_type": "stream",
     "text": [
      "3509it [08:56,  8.48it/s]"
     ]
    },
    {
     "name": "stdout",
     "output_type": "stream",
     "text": [
      "Executing tool: web_search with args: {'query': 'carbohydrates per 100g in coffee ice cream'}\n",
      "Executing tool: web_search with args: {'query': 'is coffee ice cream vegan'}\n"
     ]
    },
    {
     "name": "stderr",
     "output_type": "stream",
     "text": [
      "3510it [09:00,  6.27it/s]"
     ]
    },
    {
     "name": "stdout",
     "output_type": "stream",
     "text": [
      "Executing tool: web_search with args: {'query': 'CROSSE and BLACKWELL® Apple Curry Chutney carbohydrates per 100g'}\n",
      "Executing tool: web_search with args: {'query': 'CROSSE and BLACKWELL® Apple Curry Chutney vegan'}\n"
     ]
    },
    {
     "name": "stderr",
     "output_type": "stream",
     "text": [
      "3535it [09:05,  5.88it/s]"
     ]
    },
    {
     "name": "stdout",
     "output_type": "stream",
     "text": [
      "Executing tool: web_search with args: {'query': \"carbohydrates per 100g Apricot KERNS® from LIBBY'S® All Nectar\"}\n",
      "Executing tool: web_search with args: {'query': \"is Apricot KERNS® from LIBBY'S® All Nectar vegan\"}\n"
     ]
    },
    {
     "name": "stderr",
     "output_type": "stream",
     "text": [
      "3537it [09:10,  4.20it/s]"
     ]
    },
    {
     "name": "stdout",
     "output_type": "stream",
     "text": [
      "Executing tool: web_search with args: {'query': 'carbohydrates per 100g almond brickle chips'}\n",
      "Executing tool: web_search with args: {'query': 'are almond brickle chips vegan'}\n"
     ]
    },
    {
     "name": "stderr",
     "output_type": "stream",
     "text": [
      "3539it [09:14,  3.11it/s]"
     ]
    },
    {
     "name": "stdout",
     "output_type": "stream",
     "text": [
      "Executing tool: web_search with args: {'query': 'carbohydrates per 100g McCormick® Rubbed Sage'}\n",
      "Executing tool: web_search with args: {'query': 'is McCormick® Rubbed Sage vegan'}\n"
     ]
    },
    {
     "name": "stderr",
     "output_type": "stream",
     "text": [
      "3642it [09:21,  7.86it/s]"
     ]
    },
    {
     "name": "stdout",
     "output_type": "stream",
     "text": [
      "Executing tool: web_search with args: {'query': 'carbohydrates per 100g in anise flavored liqueur'}\n",
      "Executing tool: web_search with args: {'query': 'is anise flavored liqueur vegan'}\n"
     ]
    },
    {
     "name": "stderr",
     "output_type": "stream",
     "text": [
      "3688it [09:25,  8.49it/s]"
     ]
    },
    {
     "name": "stdout",
     "output_type": "stream",
     "text": [
      "Executing tool: web_search with args: {'query': 'frozen burger-style crumbles carbohydrates per 100g'}\n",
      "Executing tool: web_search with args: {'query': 'frozen burger-style crumbles vegan'}\n"
     ]
    },
    {
     "name": "stderr",
     "output_type": "stream",
     "text": [
      "3718it [09:29,  8.12it/s]"
     ]
    },
    {
     "name": "stdout",
     "output_type": "stream",
     "text": [
      "Executing tool: web_search with args: {'query': 'carbohydrates per 100g in orange flavored yogurt'}\n",
      "Executing tool: web_search with args: {'query': 'is orange flavored yogurt vegan'}\n"
     ]
    },
    {
     "name": "stderr",
     "output_type": "stream",
     "text": [
      "3775it [09:36,  8.50it/s]"
     ]
    },
    {
     "name": "stdout",
     "output_type": "stream",
     "text": [
      "Executing tool: web_search with args: {'query': 'carbohydrates per 100g lemon cake mix with pudding'}\n",
      "Executing tool: web_search with args: {'query': 'is lemon cake mix with pudding vegan'}\n"
     ]
    },
    {
     "name": "stderr",
     "output_type": "stream",
     "text": [
      "3798it [09:43,  6.43it/s]"
     ]
    },
    {
     "name": "stdout",
     "output_type": "stream",
     "text": [
      "Executing tool: web_search with args: {'query': 'KEEBLER® Pecan Sandies® cookies carbohydrates per 100g'}\n",
      "Executing tool: web_search with args: {'query': 'KEEBLER® Pecan Sandies® cookies vegan'}\n"
     ]
    },
    {
     "name": "stderr",
     "output_type": "stream",
     "text": [
      "3814it [09:48,  5.46it/s]"
     ]
    },
    {
     "name": "stdout",
     "output_type": "stream",
     "text": [
      "Executing tool: web_search with args: {'query': 'Banana Nut Frosting carbohydrates per 100g'}\n",
      "Executing tool: web_search with args: {'query': 'Banana Nut Frosting vegan'}\n"
     ]
    },
    {
     "name": "stderr",
     "output_type": "stream",
     "text": [
      "3834it [09:56,  4.49it/s]"
     ]
    },
    {
     "name": "stdout",
     "output_type": "stream",
     "text": [
      "Executing tool: web_search with args: {'query': 'carbohydrates per 100g in bittersweet chocolate bar with almond nougat'}\n",
      "Executing tool: web_search with args: {'query': 'is bittersweet chocolate bar with almond nougat vegan'}\n"
     ]
    },
    {
     "name": "stderr",
     "output_type": "stream",
     "text": [
      "3872it [10:00,  5.39it/s]"
     ]
    },
    {
     "name": "stdout",
     "output_type": "stream",
     "text": [
      "Executing tool: web_search with args: {'query': \"foglie d'autumn pasta carbohydrates per 100g\"}\n",
      "Executing tool: web_search with args: {'query': \"foglie d'autumn pasta vegan\"}\n"
     ]
    },
    {
     "name": "stderr",
     "output_type": "stream",
     "text": [
      "3900it [10:05,  5.45it/s]"
     ]
    },
    {
     "name": "stdout",
     "output_type": "stream",
     "text": [
      "Executing tool: web_search with args: {'query': 'KEEBLER® READY CRUST® Graham Pie Crust carbohydrates per 100g'}\n",
      "Executing tool: web_search with args: {'query': 'KEEBLER® READY CRUST® Graham Pie Crust vegan'}\n"
     ]
    },
    {
     "name": "stderr",
     "output_type": "stream",
     "text": [
      "3904it [10:10,  4.20it/s]"
     ]
    },
    {
     "name": "stdout",
     "output_type": "stream",
     "text": [
      "Executing tool: web_search with args: {'query': 'carbohydrates per 100g of Berry filling'}\n",
      "Executing tool: web_search with args: {'query': 'is Berry filling vegan'}\n"
     ]
    },
    {
     "name": "stderr",
     "output_type": "stream",
     "text": [
      "3947it [10:15,  5.41it/s]"
     ]
    },
    {
     "name": "stdout",
     "output_type": "stream",
     "text": [
      "Executing tool: web_search with args: {'query': 'Layer In Jar carbohydrates per 100g'}\n",
      "Executing tool: web_search with args: {'query': 'Layer In Jar vegan'}\n"
     ]
    },
    {
     "name": "stderr",
     "output_type": "stream",
     "text": [
      "3952it [10:20,  4.26it/s]"
     ]
    },
    {
     "name": "stdout",
     "output_type": "stream",
     "text": [
      "Executing tool: web_search with args: {'query': 'carbohydrates in 100g of ground white meat turkey'}\n",
      "Executing tool: web_search with args: {'query': 'is ground white meat turkey vegan'}\n"
     ]
    },
    {
     "name": "stderr",
     "output_type": "stream",
     "text": [
      "3960it [10:26,  3.34it/s]"
     ]
    },
    {
     "name": "stdout",
     "output_type": "stream",
     "text": [
      "Executing tool: web_search with args: {'query': 'carbohydrates per 100g vanilla wafer cookies'}\n",
      "Executing tool: web_search with args: {'query': 'are vanilla wafer cookies vegan'}\n"
     ]
    },
    {
     "name": "stderr",
     "output_type": "stream",
     "text": [
      "3961it [10:30,  2.55it/s]"
     ]
    },
    {
     "name": "stdout",
     "output_type": "stream",
     "text": [
      "Executing tool: web_search with args: {'query': 'carbohydrates in 100g of frozen peas and carrots'}\n",
      "Executing tool: web_search with args: {'query': 'is frozen peas and carrots vegan'}\n"
     ]
    },
    {
     "name": "stderr",
     "output_type": "stream",
     "text": [
      "3962it [10:34,  1.93it/s]"
     ]
    },
    {
     "name": "stdout",
     "output_type": "stream",
     "text": [
      "Executing tool: web_search with args: {'query': 'carbohydrates in 100g of nectarines'}\n",
      "Executing tool: web_search with args: {'query': 'are nectarines vegan'}\n"
     ]
    },
    {
     "name": "stderr",
     "output_type": "stream",
     "text": [
      "3963it [10:39,  1.41it/s]"
     ]
    },
    {
     "name": "stdout",
     "output_type": "stream",
     "text": [
      "Executing tool: web_search with args: {'query': 'carbohydrates per 100g of whey powder'}\n",
      "Executing tool: web_search with args: {'query': 'is whey powder vegan'}\n"
     ]
    },
    {
     "name": "stderr",
     "output_type": "stream",
     "text": [
      "3964it [10:43,  1.07it/s]"
     ]
    },
    {
     "name": "stdout",
     "output_type": "stream",
     "text": [
      "Executing tool: web_search with args: {'query': 'carbohydrates per 100g in great northern beans'}\n",
      "Executing tool: web_search with args: {'query': 'are great northern beans vegan'}\n"
     ]
    },
    {
     "name": "stderr",
     "output_type": "stream",
     "text": [
      "3965it [10:47,  1.19s/it]"
     ]
    },
    {
     "name": "stdout",
     "output_type": "stream",
     "text": [
      "Executing tool: web_search with args: {'query': 'carbohydrates per 100g in cocktail sauce'}\n",
      "Executing tool: web_search with args: {'query': 'is cocktail sauce vegan'}\n"
     ]
    },
    {
     "name": "stderr",
     "output_type": "stream",
     "text": [
      "3966it [10:51,  1.48s/it]"
     ]
    },
    {
     "name": "stdout",
     "output_type": "stream",
     "text": [
      "Executing tool: web_search with args: {'query': 'carbohydrates per 100g of orange zest'}\n",
      "Executing tool: web_search with args: {'query': 'is orange zest vegan'}\n"
     ]
    },
    {
     "name": "stderr",
     "output_type": "stream",
     "text": [
      "3967it [10:58,  2.17s/it]"
     ]
    },
    {
     "name": "stdout",
     "output_type": "stream",
     "text": [
      "Executing tool: web_search with args: {'query': 'carbohydrates in 100g of shredded cabbage'}\n",
      "Executing tool: web_search with args: {'query': 'is shredded cabbage vegan'}\n"
     ]
    },
    {
     "name": "stderr",
     "output_type": "stream",
     "text": [
      "3969it [11:03,  5.98it/s]\n"
     ]
    }
   ],
   "source": [
    "# Load ingredients set\n",
    "ingredients = all_unique_ingredients\n",
    "\n",
    "# Main execution\n",
    "results = dict_without_na # {}\n",
    "for i, ingredient in tqdm(enumerate(ingredients)):\n",
    "    \n",
    "    # if (i+1)%50==0: # update after each 50 calls\n",
    "    #     with open('ingredients_carbs_vegan.json', 'w', encoding ='utf8') as json_file:\n",
    "    #         json.dump(results, json_file, indent=6)\n",
    "\n",
    "    # Skip ingredients already processed\n",
    "    if ingredient in results:\n",
    "        continue\n",
    "        \n",
    "    # Execute analyze_ingredient to get carbs, is_vegan\n",
    "    result = analyze_ingredient(ingredient)\n",
    "    results[ingredient]=result\n",
    "\n",
    "# Final save after all iterations complete\n",
    "with open('data/ingredients_carbs_vegan.json', 'w', encoding ='utf8') as json_file:\n",
    "    json.dump(results, json_file, indent=6)"
   ]
  },
  {
   "cell_type": "code",
   "execution_count": 193,
   "id": "b5197b87-a39e-4370-aaa3-511654c1aeef",
   "metadata": {},
   "outputs": [
    {
     "data": {
      "text/plain": [
       "{'carbs_per_100g': 19.14, 'is_vegan': True}"
      ]
     },
     "execution_count": 193,
     "metadata": {},
     "output_type": "execute_result"
    }
   ],
   "source": [
    "# look at one result sample from the results\n",
    "json.loads(results[0]['result'])"
   ]
  },
  {
   "cell_type": "code",
   "execution_count": null,
   "id": "0d3fa0bd-94d2-44cb-8b20-ed1c2b7c8eb1",
   "metadata": {},
   "outputs": [],
   "source": []
  }
 ],
 "metadata": {
  "kernelspec": {
   "display_name": "Python 3 (ipykernel)",
   "language": "python",
   "name": "python3"
  },
  "language_info": {
   "codemirror_mode": {
    "name": "ipython",
    "version": 3
   },
   "file_extension": ".py",
   "mimetype": "text/x-python",
   "name": "python",
   "nbconvert_exporter": "python",
   "pygments_lexer": "ipython3",
   "version": "3.11.6"
  }
 },
 "nbformat": 4,
 "nbformat_minor": 5
}
